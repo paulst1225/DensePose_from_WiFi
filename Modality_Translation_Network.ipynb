{
 "cells": [
  {
   "cell_type": "code",
   "execution_count": null,
   "metadata": {},
   "outputs": [],
   "source": [
    "import numpy as np\n",
    "\n",
    "# Create a random tensor with size 150 × 3 × 3\n",
    "tensor = np.random.rand(150, 3, 3)\n",
    "\n",
    "# Flatten the tensor\n",
    "flattened_tensor = tensor.flatten()\n",
    "\n",
    "# Print the shape and size of the flattened tensor\n",
    "print(flattened_tensor.shape)\n",
    "print(flattened_tensor.size)"
   ]
  }
 ],
 "metadata": {
  "language_info": {
   "name": "python"
  },
  "orig_nbformat": 4
 },
 "nbformat": 4,
 "nbformat_minor": 2
}
